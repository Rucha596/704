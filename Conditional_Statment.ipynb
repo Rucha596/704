{
 "cells": [
  {
   "cell_type": "markdown",
   "id": "1afbaaca-6ecc-46bc-a192-74733b4bff44",
   "metadata": {},
   "source": [
    "1) Write a program that takes the age of a person as input and prints whether they are \n",
    "eligible to vote (18 years or older). "
   ]
  },
  {
   "cell_type": "code",
   "execution_count": 3,
   "id": "5c593513-ae54-43f3-a390-fbf72d129847",
   "metadata": {},
   "outputs": [
    {
     "name": "stdin",
     "output_type": "stream",
     "text": [
      "Enter your age: 12\n"
     ]
    },
    {
     "name": "stdout",
     "output_type": "stream",
     "text": [
      "You are not eligible for voting\n"
     ]
    }
   ],
   "source": [
    "Age = int(input('Enter your age:'))\n",
    "if Age >= 18:\n",
    "    print(\"You are eligible for Voting\")\n",
    "else:\n",
    "    print(\"You are not eligible for voting\")\n"
   ]
  },
  {
   "cell_type": "markdown",
   "id": "c12370b7-dd60-4f79-84f7-014628a8ea26",
   "metadata": {},
   "source": [
    "2) Take a number as input and print whether it is positive, negative, or zero."
   ]
  },
  {
   "cell_type": "code",
   "execution_count": 9,
   "id": "b7c40a96-9609-4c85-978a-20ce9ade85ed",
   "metadata": {},
   "outputs": [
    {
     "name": "stdin",
     "output_type": "stream",
     "text": [
      "Enter a number: 0\n"
     ]
    },
    {
     "name": "stdout",
     "output_type": "stream",
     "text": [
      "Zero\n"
     ]
    }
   ],
   "source": [
    "number = int(input('Enter a number:'))\n",
    "if number > 0:\n",
    "    print(\"Positive number\")\n",
    "elif number < 0:\n",
    "    print(\"Negative number\")\n",
    "else:\n",
    "    print(\"Zero\")"
   ]
  },
  {
   "cell_type": "markdown",
   "id": "4b70e6f9-c429-4914-8abf-fa4c8cae76fa",
   "metadata": {},
   "source": [
    "3) Write a program that asks for a student's score (out of 100) and prints their grade \n",
    "based on the following criteria: \n",
    " 90 and above: \"A\" \n",
    " 80-89: \"B\" \n",
    " 70-79: \"C\" \n",
    " 60-69: \"D\" \n",
    " Below 60: \"F\" "
   ]
  },
  {
   "cell_type": "code",
   "execution_count": 22,
   "id": "1b8ec6c3-e318-47dc-b35a-cba12277b280",
   "metadata": {},
   "outputs": [
    {
     "name": "stdin",
     "output_type": "stream",
     "text": [
      "Enter Student Score: 35\n"
     ]
    },
    {
     "name": "stdout",
     "output_type": "stream",
     "text": [
      "F\n"
     ]
    }
   ],
   "source": [
    "Student_score = int(input(\"Enter Student Score:\"))\n",
    "if Student_score >= 90:\n",
    "    print(\"A\")\n",
    "elif Student_score >= 80 and Student_score < 89:\n",
    "    print(\"B\")\n",
    "elif Student_score >= 70 and Student_score < 79:\n",
    "    print(\"C\")\n",
    "elif Student_score >= 60 and Student_score < 69:\n",
    "    print(\"D\")\n",
    "else:\n",
    "    print(\"F\")"
   ]
  },
  {
   "cell_type": "markdown",
   "id": "443a8c38-a294-4078-854c-4676e5f3de06",
   "metadata": {},
   "source": [
    "4) Write a program to check if a given year is a leap year. (Hint: A year is a leap \n",
    "year if it is divisible by 4 but not by 100, except when it’s also divisible by 400.) "
   ]
  },
  {
   "cell_type": "code",
   "execution_count": 26,
   "id": "aa0872ed-308c-4b71-a783-a6259d949b78",
   "metadata": {},
   "outputs": [
    {
     "name": "stdin",
     "output_type": "stream",
     "text": [
      "Enter year: 2004\n"
     ]
    },
    {
     "name": "stdout",
     "output_type": "stream",
     "text": [
      "Year is a Leap year\n"
     ]
    }
   ],
   "source": [
    "year = int(input(\"Enter year:\"))\n",
    "if year % 4 == 0 and year % 100 != 0:\n",
    "            print(\"Year is a Leap year\")\n",
    "elif year % 400 == 0 and year % 100 == 0:\n",
    "            print(\"Year is a Leap year\")\n",
    "else:\n",
    "    print(\"Year is not Leap year\")"
   ]
  },
  {
   "cell_type": "markdown",
   "id": "57f7472e-02db-4a66-bc16-38ed51f3df7f",
   "metadata": {},
   "source": [
    "5)  Take three numbers as input and print the largest of the three. "
   ]
  },
  {
   "cell_type": "code",
   "execution_count": 28,
   "id": "5229a65e-64fc-41f0-a654-ee6fa718eb10",
   "metadata": {},
   "outputs": [
    {
     "name": "stdin",
     "output_type": "stream",
     "text": [
      "Enter first number: 7\n",
      "Enter second number: 9\n",
      "Enter third number: 2\n"
     ]
    },
    {
     "name": "stdout",
     "output_type": "stream",
     "text": [
      "Second number is Largest: 9\n"
     ]
    }
   ],
   "source": [
    "n1 = int(input(\"Enter first number:\"))\n",
    "n2 = int(input(\"Enter second number:\"))\n",
    "n3 = int(input(\"Enter third number:\"))\n",
    "\n",
    "if n1 > n2 and n1 > n3:\n",
    "        print(\"First number is Largest:\", n1)\n",
    "elif n2 > n1 and n2 > n3:\n",
    "        print(\"Second number is Largest:\", n2)\n",
    "else:\n",
    "    print(\"Third number is Largest:\", n3)"
   ]
  },
  {
   "cell_type": "markdown",
   "id": "48aa9101-58b2-480b-94c8-5bdf0f6502f9",
   "metadata": {},
   "source": [
    "6) Write a program that takes an integer input and checks if it is even or odd. "
   ]
  },
  {
   "cell_type": "code",
   "execution_count": 32,
   "id": "89bbb81f-e421-4e39-a7db-a057301a6b62",
   "metadata": {},
   "outputs": [
    {
     "name": "stdin",
     "output_type": "stream",
     "text": [
      "Enter a number: 9\n"
     ]
    },
    {
     "name": "stdout",
     "output_type": "stream",
     "text": [
      "Odd Number\n"
     ]
    }
   ],
   "source": [
    "num = int(input(\"Enter a number:\"))\n",
    "if num % 2 == 0:\n",
    "    print(\"Even Number\")\n",
    "else:\n",
    "    print(\"Odd Number\")"
   ]
  },
  {
   "cell_type": "markdown",
   "id": "30cd1c45-3fa5-4da0-91b9-33b89c880bf2",
   "metadata": {},
   "source": [
    "7) Create a simple login system that asks for a username and password and checks if \n",
    "they match predefined values. Print “Login Successful” if correct, otherwise \n",
    "“Login Failed.” "
   ]
  },
  {
   "cell_type": "code",
   "execution_count": 36,
   "id": "97e66aad-5ad8-4784-9749-ba0ca401219e",
   "metadata": {},
   "outputs": [
    {
     "name": "stdin",
     "output_type": "stream",
     "text": [
      "Please enter username: user\n",
      "Please enter password pass\n"
     ]
    },
    {
     "name": "stdout",
     "output_type": "stream",
     "text": [
      "Login Failed\n"
     ]
    }
   ],
   "source": [
    "username_1 = 'user'\n",
    "password_1 = 'password'\n",
    "\n",
    "username = input('Please enter username:')\n",
    "password = input('Please enter password')\n",
    "\n",
    "if username == username_1 and password == password_1:\n",
    "    print(\"Login Successful\")\n",
    "else:\n",
    "    print(\"Login Failed\")"
   ]
  },
  {
   "cell_type": "markdown",
   "id": "4f7b2371-a31a-40a2-8dd6-d30ba6e32776",
   "metadata": {},
   "source": [
    "8) Write a program that calculates the final price of an item after applying a discount \n",
    "based on the price: \n",
    " Above $100: 20% discount \n",
    " $50-$100: 10% discount \n",
    " Below $50: No discount"
   ]
  },
  {
   "cell_type": "code",
   "execution_count": 42,
   "id": "8cc49ced-4ac1-4e57-8f59-0ccf626d26ee",
   "metadata": {},
   "outputs": [
    {
     "name": "stdin",
     "output_type": "stream",
     "text": [
      "Enter item price: 35\n"
     ]
    },
    {
     "name": "stdout",
     "output_type": "stream",
     "text": [
      "No discount\n"
     ]
    }
   ],
   "source": [
    "item_price = int(input(\"Enter item price:\"))\n",
    "if item_price >= 100:\n",
    "    print(\"20% discount\")\n",
    "elif item_price >= 50 and item_price < 100:\n",
    "    print(\"10% discount\")\n",
    "else:\n",
    "    print(\"No discount\")"
   ]
  },
  {
   "cell_type": "markdown",
   "id": "d1f21f35-15fe-4b66-956e-3188b3d0d60e",
   "metadata": {},
   "source": [
    "# For Loop"
   ]
  },
  {
   "cell_type": "markdown",
   "id": "44ed24b4-8f00-4e79-a1de-72cea0499803",
   "metadata": {},
   "source": [
    "1) Write a program using a for loop to print numbers from 1 to 10."
   ]
  },
  {
   "cell_type": "code",
   "execution_count": 44,
   "id": "14b82885-e028-412c-8774-c285e17b298b",
   "metadata": {},
   "outputs": [
    {
     "name": "stdout",
     "output_type": "stream",
     "text": [
      "1\n",
      "2\n",
      "3\n",
      "4\n",
      "5\n",
      "6\n",
      "7\n",
      "8\n",
      "9\n",
      "10\n"
     ]
    }
   ],
   "source": [
    "for i in range(1,11):\n",
    "    print(i)"
   ]
  },
  {
   "cell_type": "markdown",
   "id": "cce55587-3118-4bdf-8964-a511a648d925",
   "metadata": {},
   "source": [
    "2) Ask the user to enter a word and use a for loop to print each character in the word."
   ]
  },
  {
   "cell_type": "code",
   "execution_count": 46,
   "id": "70bf9b96-94dc-4878-9fec-51e81dfb5365",
   "metadata": {},
   "outputs": [
    {
     "name": "stdin",
     "output_type": "stream",
     "text": [
      "Enter a word:  Hello\n"
     ]
    },
    {
     "name": "stdout",
     "output_type": "stream",
     "text": [
      "H\n",
      "e\n",
      "l\n",
      "l\n",
      "o\n"
     ]
    }
   ],
   "source": [
    "string = input(\"Enter a word: \")\n",
    "for i in string:\n",
    "    print(i)"
   ]
  },
  {
   "cell_type": "markdown",
   "id": "103e86d2-94e3-41a0-a883-b612f8172f44",
   "metadata": {},
   "source": [
    "3) Use a for loop to print numbers from 1 to 5 and then back down to 1."
   ]
  },
  {
   "cell_type": "code",
   "execution_count": 48,
   "id": "944ff0c0-3540-48f4-bbc1-0fa66cd2f03e",
   "metadata": {},
   "outputs": [
    {
     "name": "stdout",
     "output_type": "stream",
     "text": [
      "1\n",
      "2\n",
      "3\n",
      "4\n",
      "5\n",
      "4\n",
      "3\n",
      "2\n",
      "1\n"
     ]
    }
   ],
   "source": [
    "for i in range(1,6):\n",
    "    print(i)\n",
    "for j in range(4,0, -1):\n",
    "    print(j)"
   ]
  },
  {
   "cell_type": "markdown",
   "id": "2fc1023e-8b42-4637-ab86-a6d961219e29",
   "metadata": {},
   "source": [
    "4) Define a list of fruits ([\"apple\", \"banana\", \"cherry\", \"date\"]) and use a\n",
    "for loop to print each fruit in the list."
   ]
  },
  {
   "cell_type": "code",
   "execution_count": 54,
   "id": "7c9f43e2-42e0-4654-a5d6-d1991f4c4d5f",
   "metadata": {},
   "outputs": [
    {
     "name": "stdout",
     "output_type": "stream",
     "text": [
      "appple\n",
      "banana\n",
      "cherry\n",
      "date\n"
     ]
    }
   ],
   "source": [
    "fruits = [\"appple\", \"banana\", \"cherry\", \"date\"]\n",
    "for i in fruits:\n",
    "    print(i)"
   ]
  },
  {
   "cell_type": "markdown",
   "id": "006f0bde-2e3e-4672-ae4b-27809567c943",
   "metadata": {},
   "source": [
    "5) Use a for loop to print all even numbers between 1 and 10."
   ]
  },
  {
   "cell_type": "code",
   "execution_count": 56,
   "id": "c348e3e5-acf8-4ad5-823c-667d7229c56f",
   "metadata": {},
   "outputs": [
    {
     "name": "stdout",
     "output_type": "stream",
     "text": [
      "2\n",
      "4\n",
      "6\n",
      "8\n",
      "10\n"
     ]
    }
   ],
   "source": [
    "for i in range(1,11):\n",
    "    if i % 2 == 0:\n",
    "        print(i)"
   ]
  },
  {
   "cell_type": "markdown",
   "id": "4c3cd82f-b657-402c-9b2d-45da475f509d",
   "metadata": {},
   "source": [
    "6) Write a program that calculates the sum of numbers in a list ([1, 2, 3, 4, 5])\n",
    "using a for loop."
   ]
  },
  {
   "cell_type": "code",
   "execution_count": 58,
   "id": "8b8b93ef-7f27-4e7d-8066-d061f43023db",
   "metadata": {},
   "outputs": [
    {
     "name": "stdout",
     "output_type": "stream",
     "text": [
      "15\n"
     ]
    }
   ],
   "source": [
    "l_1 = [1,2,3,4,5]\n",
    "sum = 0\n",
    "for i in l_1:\n",
    "    sum = sum + i\n",
    "print(sum)"
   ]
  },
  {
   "cell_type": "markdown",
   "id": "2e9a78a7-f0c9-4959-a9de-ec0f9a9c37e8",
   "metadata": {},
   "source": [
    "7) Use a for loop to print numbers in reverse from 5 to 1."
   ]
  },
  {
   "cell_type": "code",
   "execution_count": 60,
   "id": "7b592ce8-1b3f-41da-b794-9c6c940f825a",
   "metadata": {},
   "outputs": [
    {
     "name": "stdout",
     "output_type": "stream",
     "text": [
      "5\n",
      "4\n",
      "3\n",
      "2\n",
      "1\n"
     ]
    }
   ],
   "source": [
    "for i in range(5,0,-1):\n",
    "    print(i)"
   ]
  },
  {
   "cell_type": "markdown",
   "id": "d98dc977-80a0-4651-9352-80bc1fbf7314",
   "metadata": {},
   "source": [
    "8) Given a list of numbers [1, 2, 3, 4, 5], use a for loop to print the square of\n",
    "each number."
   ]
  },
  {
   "cell_type": "code",
   "execution_count": 62,
   "id": "cbd63b26-4361-4662-9c5f-4c9a173ec4cb",
   "metadata": {},
   "outputs": [
    {
     "name": "stdout",
     "output_type": "stream",
     "text": [
      "1\n",
      "4\n",
      "9\n",
      "16\n",
      "25\n"
     ]
    }
   ],
   "source": [
    "l_2 = [1,2,3,4,5]\n",
    "for i in l_2:\n",
    "    square = i * i\n",
    "    print(square)"
   ]
  },
  {
   "cell_type": "markdown",
   "id": "690a8f6c-8559-41f4-8dc8-95b519904e24",
   "metadata": {},
   "source": [
    "9) Ask the user for a word and a number N. Use a for loop to print the word N times."
   ]
  },
  {
   "cell_type": "code",
   "execution_count": 1,
   "id": "5f0f9577-6cd4-4d2d-ab17-8e526668b63f",
   "metadata": {},
   "outputs": [
    {
     "name": "stdin",
     "output_type": "stream",
     "text": [
      "Enter a word: Hi\n",
      "Enter a number: 3\n"
     ]
    },
    {
     "name": "stdout",
     "output_type": "stream",
     "text": [
      "Hi\n",
      "Hi\n",
      "Hi\n"
     ]
    }
   ],
   "source": [
    "word = input(\"Enter a word:\")\n",
    "N = int(input(\"Enter a number:\"))\n",
    "for i in range(N):\n",
    "    print(word)"
   ]
  },
  {
   "cell_type": "code",
   "execution_count": null,
   "id": "86f62623-b129-4ea9-9691-b4df9c65edb5",
   "metadata": {},
   "outputs": [],
   "source": []
  }
 ],
 "metadata": {
  "kernelspec": {
   "display_name": "Python [conda env:base] *",
   "language": "python",
   "name": "conda-base-py"
  },
  "language_info": {
   "codemirror_mode": {
    "name": "ipython",
    "version": 3
   },
   "file_extension": ".py",
   "mimetype": "text/x-python",
   "name": "python",
   "nbconvert_exporter": "python",
   "pygments_lexer": "ipython3",
   "version": "3.12.7"
  }
 },
 "nbformat": 4,
 "nbformat_minor": 5
}
