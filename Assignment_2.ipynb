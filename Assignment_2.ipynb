{
 "cells": [
  {
   "cell_type": "markdown",
   "id": "63ab5a12-09ad-4800-85ad-c771f59a8785",
   "metadata": {},
   "source": [
    "# Lists"
   ]
  },
  {
   "cell_type": "markdown",
   "id": "a8a2108f-7437-456f-b042-62a9146c6a9f",
   "metadata": {},
   "source": [
    "Create a list of integers and:\n",
    " 1. Append a new number.\n",
    " 2. Insert a number at a specific index.\n",
    " 3. Remove duplicates and print the final list."
   ]
  },
  {
   "cell_type": "code",
   "execution_count": 1,
   "id": "a3e07a0d-0425-4106-b0cc-74c5c3407ae6",
   "metadata": {},
   "outputs": [],
   "source": [
    "list1 = [1,2,3,4,5]"
   ]
  },
  {
   "cell_type": "code",
   "execution_count": 3,
   "id": "e7a29f13-1cf7-4e98-a088-a4af3e6abc1b",
   "metadata": {},
   "outputs": [
    {
     "data": {
      "text/plain": [
       "[1, 2, 3, 4, 5]"
      ]
     },
     "execution_count": 3,
     "metadata": {},
     "output_type": "execute_result"
    }
   ],
   "source": [
    "list1"
   ]
  },
  {
   "cell_type": "code",
   "execution_count": 5,
   "id": "ba6bfc70-e6ae-4b5f-9010-57cda0213394",
   "metadata": {},
   "outputs": [],
   "source": [
    "list1.append(6)"
   ]
  },
  {
   "cell_type": "code",
   "execution_count": 7,
   "id": "ccd4fb63-0c79-423d-a00f-f6be96384c0e",
   "metadata": {},
   "outputs": [
    {
     "data": {
      "text/plain": [
       "[1, 2, 3, 4, 5, 6]"
      ]
     },
     "execution_count": 7,
     "metadata": {},
     "output_type": "execute_result"
    }
   ],
   "source": [
    "list1"
   ]
  },
  {
   "cell_type": "code",
   "execution_count": 9,
   "id": "8498185b-131f-4a11-8af4-118b25d35aa5",
   "metadata": {},
   "outputs": [],
   "source": [
    "list1.insert(4,4)"
   ]
  },
  {
   "cell_type": "code",
   "execution_count": 11,
   "id": "278295dc-9c98-4e10-83fd-7258dcc44d0a",
   "metadata": {},
   "outputs": [
    {
     "data": {
      "text/plain": [
       "[1, 2, 3, 4, 4, 5, 6]"
      ]
     },
     "execution_count": 11,
     "metadata": {},
     "output_type": "execute_result"
    }
   ],
   "source": [
    "list1"
   ]
  },
  {
   "cell_type": "code",
   "execution_count": 13,
   "id": "2680c0da-e751-4460-b49a-457f16a542f7",
   "metadata": {},
   "outputs": [],
   "source": [
    "remove_duplicate = set(list1)"
   ]
  },
  {
   "cell_type": "code",
   "execution_count": 15,
   "id": "38de4822-d8d9-4a87-935d-33172e6c222d",
   "metadata": {},
   "outputs": [
    {
     "data": {
      "text/plain": [
       "{1, 2, 3, 4, 5, 6}"
      ]
     },
     "execution_count": 15,
     "metadata": {},
     "output_type": "execute_result"
    }
   ],
   "source": [
    "remove_duplicate"
   ]
  },
  {
   "cell_type": "code",
   "execution_count": 17,
   "id": "013787ca-4d07-490e-9e19-db01f79137cc",
   "metadata": {},
   "outputs": [],
   "source": [
    "new_list = list(remove_duplicate)"
   ]
  },
  {
   "cell_type": "code",
   "execution_count": 19,
   "id": "bfc2588c-1706-4e79-b5b9-ac720855d93c",
   "metadata": {},
   "outputs": [
    {
     "data": {
      "text/plain": [
       "[1, 2, 3, 4, 5, 6]"
      ]
     },
     "execution_count": 19,
     "metadata": {},
     "output_type": "execute_result"
    }
   ],
   "source": [
    "new_list"
   ]
  },
  {
   "cell_type": "markdown",
   "id": "c5ed54bd-cd04-43d6-8410-a21298711cc9",
   "metadata": {},
   "source": [
    "# Tuples"
   ]
  },
  {
   "cell_type": "markdown",
   "id": "d95a7a02-36ee-4f91-9b38-e96b61d8b798",
   "metadata": {},
   "source": [
    "Define a tuple of 5 colors.\n",
    "Try to add a new color to the tuple (observe and explain why it fails).\n",
    "Convert the tuple to a list, add the color, and convert it back to a tuple."
   ]
  },
  {
   "cell_type": "code",
   "execution_count": 24,
   "id": "2e440961-10b4-49e8-b3f0-e6a7c9a83042",
   "metadata": {},
   "outputs": [],
   "source": [
    "colors = ('Violate', 'Indigo', 'Blue', 'Green', 'Yellow')"
   ]
  },
  {
   "cell_type": "code",
   "execution_count": 26,
   "id": "1178f258-8057-4440-a091-2b69f067816f",
   "metadata": {},
   "outputs": [
    {
     "data": {
      "text/plain": [
       "('Violate', 'Indigo', 'Blue', 'Green', 'Yellow')"
      ]
     },
     "execution_count": 26,
     "metadata": {},
     "output_type": "execute_result"
    }
   ],
   "source": [
    "colors"
   ]
  },
  {
   "cell_type": "code",
   "execution_count": 28,
   "id": "684a4449-8628-42bb-bf76-013d4a2efb34",
   "metadata": {},
   "outputs": [
    {
     "ename": "AttributeError",
     "evalue": "'tuple' object has no attribute 'append'",
     "output_type": "error",
     "traceback": [
      "\u001b[1;31m---------------------------------------------------------------------------\u001b[0m",
      "\u001b[1;31mAttributeError\u001b[0m                            Traceback (most recent call last)",
      "Cell \u001b[1;32mIn[28], line 1\u001b[0m\n\u001b[1;32m----> 1\u001b[0m colors\u001b[38;5;241m.\u001b[39mappend(\u001b[38;5;124m'\u001b[39m\u001b[38;5;124morange\u001b[39m\u001b[38;5;124m'\u001b[39m)\n",
      "\u001b[1;31mAttributeError\u001b[0m: 'tuple' object has no attribute 'append'"
     ]
    }
   ],
   "source": [
    "colors.append('orange')"
   ]
  },
  {
   "cell_type": "code",
   "execution_count": 30,
   "id": "6120c9d2-bd8b-423d-92ef-4462c9dafd85",
   "metadata": {},
   "outputs": [],
   "source": [
    "color_list = list(colors)"
   ]
  },
  {
   "cell_type": "code",
   "execution_count": 32,
   "id": "5a66f098-8738-46f0-b6d8-df4ed0788339",
   "metadata": {},
   "outputs": [
    {
     "data": {
      "text/plain": [
       "['Violate', 'Indigo', 'Blue', 'Green', 'Yellow']"
      ]
     },
     "execution_count": 32,
     "metadata": {},
     "output_type": "execute_result"
    }
   ],
   "source": [
    "color_list"
   ]
  },
  {
   "cell_type": "code",
   "execution_count": 34,
   "id": "37069587-84a1-470f-8a12-e4ec6d85f25b",
   "metadata": {},
   "outputs": [],
   "source": [
    "color_list.append('orange')"
   ]
  },
  {
   "cell_type": "code",
   "execution_count": 36,
   "id": "568867fc-bb1e-4948-8c28-fc29e146eaa3",
   "metadata": {},
   "outputs": [
    {
     "data": {
      "text/plain": [
       "['Violate', 'Indigo', 'Blue', 'Green', 'Yellow', 'orange']"
      ]
     },
     "execution_count": 36,
     "metadata": {},
     "output_type": "execute_result"
    }
   ],
   "source": [
    "color_list"
   ]
  },
  {
   "cell_type": "code",
   "execution_count": 38,
   "id": "26d92555-cf8a-4999-8abc-e6427d493a50",
   "metadata": {},
   "outputs": [],
   "source": [
    "color_tuple = tuple(color_list)"
   ]
  },
  {
   "cell_type": "code",
   "execution_count": 40,
   "id": "7145e565-e83a-4708-b067-c8688114af90",
   "metadata": {},
   "outputs": [
    {
     "data": {
      "text/plain": [
       "('Violate', 'Indigo', 'Blue', 'Green', 'Yellow', 'orange')"
      ]
     },
     "execution_count": 40,
     "metadata": {},
     "output_type": "execute_result"
    }
   ],
   "source": [
    "color_tuple"
   ]
  },
  {
   "cell_type": "markdown",
   "id": "ac989808-b739-40c7-b43f-4ab982b2d7f9",
   "metadata": {},
   "source": [
    "# Sets"
   ]
  },
  {
   "cell_type": "markdown",
   "id": "c0ccbaba-c334-4a04-856e-5b91413761b2",
   "metadata": {},
   "source": [
    "Create two sets of random numbers.\n",
    "o Find and print their union, intersection, and difference.\n",
    "o Remove one element from the first set and add a new element."
   ]
  },
  {
   "cell_type": "code",
   "execution_count": 44,
   "id": "e09d845b-8be6-4e33-92ce-832f207d151a",
   "metadata": {},
   "outputs": [],
   "source": [
    "set_1 = {1,2,3,4,5}\n",
    "set_2 = {4,5,6,7,8}"
   ]
  },
  {
   "cell_type": "code",
   "execution_count": 46,
   "id": "b9a84150-5733-49b5-a850-631e9645dfd0",
   "metadata": {},
   "outputs": [
    {
     "data": {
      "text/plain": [
       "{1, 2, 3, 4, 5}"
      ]
     },
     "execution_count": 46,
     "metadata": {},
     "output_type": "execute_result"
    }
   ],
   "source": [
    "set_1"
   ]
  },
  {
   "cell_type": "code",
   "execution_count": 48,
   "id": "a049629a-34b1-428f-bdff-501f91e7d401",
   "metadata": {},
   "outputs": [
    {
     "data": {
      "text/plain": [
       "{4, 5, 6, 7, 8}"
      ]
     },
     "execution_count": 48,
     "metadata": {},
     "output_type": "execute_result"
    }
   ],
   "source": [
    "set_2"
   ]
  },
  {
   "cell_type": "code",
   "execution_count": 50,
   "id": "bae24dbd-2d4e-4193-95c8-157b855fcb61",
   "metadata": {},
   "outputs": [
    {
     "data": {
      "text/plain": [
       "{1, 2, 3, 4, 5, 6, 7, 8}"
      ]
     },
     "execution_count": 50,
     "metadata": {},
     "output_type": "execute_result"
    }
   ],
   "source": [
    "set_1.union(set_2)"
   ]
  },
  {
   "cell_type": "code",
   "execution_count": 52,
   "id": "a25451ef-afcd-441f-9584-72844e502e59",
   "metadata": {},
   "outputs": [
    {
     "data": {
      "text/plain": [
       "{4, 5}"
      ]
     },
     "execution_count": 52,
     "metadata": {},
     "output_type": "execute_result"
    }
   ],
   "source": [
    "set_1.intersection(set_2)"
   ]
  },
  {
   "cell_type": "code",
   "execution_count": 54,
   "id": "0846a6ee-09e2-4712-8901-98b23145e2ba",
   "metadata": {},
   "outputs": [
    {
     "data": {
      "text/plain": [
       "{1, 2, 3}"
      ]
     },
     "execution_count": 54,
     "metadata": {},
     "output_type": "execute_result"
    }
   ],
   "source": [
    "set_1.difference(set_2)"
   ]
  },
  {
   "cell_type": "code",
   "execution_count": 56,
   "id": "21ca2ca8-f789-4ee7-86fb-13d74d421aa5",
   "metadata": {},
   "outputs": [],
   "source": [
    "set_1.remove(3)"
   ]
  },
  {
   "cell_type": "code",
   "execution_count": 58,
   "id": "bbd97f8c-fb92-4e4c-b509-be5a82e1fc29",
   "metadata": {},
   "outputs": [
    {
     "data": {
      "text/plain": [
       "{1, 2, 4, 5}"
      ]
     },
     "execution_count": 58,
     "metadata": {},
     "output_type": "execute_result"
    }
   ],
   "source": [
    "set_1"
   ]
  },
  {
   "cell_type": "code",
   "execution_count": 60,
   "id": "207a7728-8568-4a70-9ef5-8f5d07368cd9",
   "metadata": {},
   "outputs": [],
   "source": [
    "set_1.add(9)"
   ]
  },
  {
   "cell_type": "code",
   "execution_count": 62,
   "id": "729dcb5b-8a9f-4b5b-bd79-eb0abbfbd07f",
   "metadata": {},
   "outputs": [
    {
     "data": {
      "text/plain": [
       "{1, 2, 4, 5, 9}"
      ]
     },
     "execution_count": 62,
     "metadata": {},
     "output_type": "execute_result"
    }
   ],
   "source": [
    "set_1"
   ]
  },
  {
   "cell_type": "markdown",
   "id": "06b154c4-a17e-4bd5-8d95-f808f90cff40",
   "metadata": {},
   "source": [
    "# Dictionary"
   ]
  },
  {
   "cell_type": "markdown",
   "id": "974aec9a-a2d0-45d4-b458-8c6f2c8a3574",
   "metadata": {},
   "source": [
    "Define a dictionary for a library system with book titles as keys and available copies as values. o Update the count of a specific book after it is borrowed. o Add a new book to the dictionary and print the updated dictionary"
   ]
  },
  {
   "cell_type": "code",
   "execution_count": 87,
   "id": "c71c053a-d457-4faf-a886-3705baa3f27d",
   "metadata": {},
   "outputs": [],
   "source": [
    "library_system = {'English': 3, 'Maths': 5, 'Physics': 4, 'Chemistry': 2}"
   ]
  },
  {
   "cell_type": "code",
   "execution_count": 89,
   "id": "325e6bac-a419-48be-91cf-37e7edaa6263",
   "metadata": {},
   "outputs": [
    {
     "data": {
      "text/plain": [
       "{'English': 3, 'Maths': 5, 'Physics': 4, 'Chemistry': 2}"
      ]
     },
     "execution_count": 89,
     "metadata": {},
     "output_type": "execute_result"
    }
   ],
   "source": [
    "library_system"
   ]
  },
  {
   "cell_type": "code",
   "execution_count": 91,
   "id": "7b76a866-afb7-4128-9162-0524c691b943",
   "metadata": {},
   "outputs": [],
   "source": [
    "library_system['Maths'] = 4"
   ]
  },
  {
   "cell_type": "code",
   "execution_count": 93,
   "id": "2f8544dd-0a6c-4434-a95a-f78008284900",
   "metadata": {},
   "outputs": [
    {
     "data": {
      "text/plain": [
       "{'English': 3, 'Maths': 4, 'Physics': 4, 'Chemistry': 2}"
      ]
     },
     "execution_count": 93,
     "metadata": {},
     "output_type": "execute_result"
    }
   ],
   "source": [
    "library_system"
   ]
  },
  {
   "cell_type": "code",
   "execution_count": 95,
   "id": "dfe80a30-000d-4f9f-a3c5-070e9c616181",
   "metadata": {},
   "outputs": [],
   "source": [
    "library_system['Biology'] = 5"
   ]
  },
  {
   "cell_type": "code",
   "execution_count": 97,
   "id": "a28644a1-19ec-4388-a279-266182981059",
   "metadata": {},
   "outputs": [
    {
     "data": {
      "text/plain": [
       "{'English': 3, 'Maths': 4, 'Physics': 4, 'Chemistry': 2, 'Biology': 5}"
      ]
     },
     "execution_count": 97,
     "metadata": {},
     "output_type": "execute_result"
    }
   ],
   "source": [
    "library_system"
   ]
  },
  {
   "cell_type": "code",
   "execution_count": null,
   "id": "8a487e2c-d074-408d-b1ac-ff3c70290d47",
   "metadata": {},
   "outputs": [],
   "source": []
  }
 ],
 "metadata": {
  "kernelspec": {
   "display_name": "Python [conda env:base] *",
   "language": "python",
   "name": "conda-base-py"
  },
  "language_info": {
   "codemirror_mode": {
    "name": "ipython",
    "version": 3
   },
   "file_extension": ".py",
   "mimetype": "text/x-python",
   "name": "python",
   "nbconvert_exporter": "python",
   "pygments_lexer": "ipython3",
   "version": "3.12.7"
  }
 },
 "nbformat": 4,
 "nbformat_minor": 5
}
