{
 "cells": [
  {
   "cell_type": "markdown",
   "id": "d93e9f1a-17fb-49ee-979e-ef2df063e77b",
   "metadata": {},
   "source": [
    "# Assiginment 1\n",
    "# 1. Variable Manipulation:"
   ]
  },
  {
   "cell_type": "raw",
   "id": "94ab8c99-27fc-4f47-bf75-aa0fcb895e58",
   "metadata": {},
   "source": [
    "o Define variables to store a student's name, age, GPA and list of subjects.\n",
    "o Convert age from years to months and display the result.\n",
    "o Concatenate and print a sentence using all the defined variables."
   ]
  },
  {
   "cell_type": "code",
   "execution_count": 117,
   "id": "38e56edc-4fa5-4d0f-93aa-f2f6dfa5f9ec",
   "metadata": {},
   "outputs": [
    {
     "name": "stdin",
     "output_type": "stream",
     "text": [
      "Student Name: Rucha\n",
      "Student age: 18\n",
      "Student GPA: 8.45\n"
     ]
    },
    {
     "name": "stdout",
     "output_type": "stream",
     "text": [
      "Student Name is: Rucha, Age is: 18, GPA is: 8.45 and Age in month is: 216\n"
     ]
    }
   ],
   "source": [
    "Stud_Name = input('Student Name:')\n",
    "Stud_Age = int(input('Student age:'))\n",
    "Stud_GPA = float(input('Student GPA:'))\n",
    "AgeInMonth = Stud_Age * 12\n",
    "print(f'Student Name is: {Stud_Name}, Age is: {Stud_Age}, GPA is: {Stud_GPA} and Age in month is: {AgeInMonth}')"
   ]
  },
  {
   "cell_type": "markdown",
   "id": "5db592d1-306a-4fc4-8818-b2d0e5be1e35",
   "metadata": {},
   "source": [
    "# 2. Type Conversion Practice:\n",
    "o Convert a float to an integer, and explain what happens to the decimal part."
   ]
  },
  {
   "cell_type": "code",
   "execution_count": 119,
   "id": "619af2d1-06ba-435b-9ae7-a8314c413605",
   "metadata": {},
   "outputs": [
    {
     "name": "stdin",
     "output_type": "stream",
     "text": [
      "Enter a Float number: 8.9\n"
     ]
    },
    {
     "name": "stdout",
     "output_type": "stream",
     "text": [
      "Converting a number from \"float to integer\": 8\n"
     ]
    }
   ],
   "source": [
    "a = float(input('Enter a Float number:'))\n",
    "b = int(a)\n",
    "print('Converting a number from \"float to integer\":',b)"
   ]
  }
 ],
 "metadata": {
  "kernelspec": {
   "display_name": "Python [conda env:base] *",
   "language": "python",
   "name": "conda-base-py"
  },
  "language_info": {
   "codemirror_mode": {
    "name": "ipython",
    "version": 3
   },
   "file_extension": ".py",
   "mimetype": "text/x-python",
   "name": "python",
   "nbconvert_exporter": "python",
   "pygments_lexer": "ipython3",
   "version": "3.12.7"
  }
 },
 "nbformat": 4,
 "nbformat_minor": 5
}
