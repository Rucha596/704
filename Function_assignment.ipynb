{
 "cells": [
  {
   "cell_type": "markdown",
   "id": "febed087-6b40-4c6b-8181-bf429d163d65",
   "metadata": {},
   "source": [
    "1) Write a function sum_numbers(a, b) that takes two numbers as input and does the\n",
    "following:\n",
    "o Prints the sum of the numbers.\n",
    "o Returns the sum of the numbers.\n",
    "o Call the function and explain the difference between the print and return values"
   ]
  },
  {
   "cell_type": "code",
   "execution_count": 1,
   "id": "7e379ed8-8c44-43b4-978b-1e1a8dcd3659",
   "metadata": {},
   "outputs": [],
   "source": [
    "def sum_numbers(a, b):\n",
    "    \"\"\"This function takes two numbers as input and returns their sum.\"\"\"\n",
    "    sum = a + b\n",
    "    print(f'sum of {a} and {b} is: {sum}')\n",
    "    return sum"
   ]
  },
  {
   "cell_type": "code",
   "execution_count": 3,
   "id": "dd7a6e5b-23d3-4ac3-a5e6-c02f0c27b5d0",
   "metadata": {},
   "outputs": [
    {
     "name": "stdout",
     "output_type": "stream",
     "text": [
      "sum of 5 and 10 is: 15\n"
     ]
    },
    {
     "data": {
      "text/plain": [
       "15"
      ]
     },
     "execution_count": 3,
     "metadata": {},
     "output_type": "execute_result"
    }
   ],
   "source": [
    "sum_numbers(5,10)"
   ]
  },
  {
   "cell_type": "markdown",
   "id": "6ab94a68-b0b7-4504-a110-cf9ab1f3ee65",
   "metadata": {},
   "source": [
    "2) Write a program where:\n",
    "o You define a global variable counter with an initial value of 0.\n",
    "o Create a function increment() that increments counter by 1 each time it is called\n",
    "and prints its value.\n",
    "o Call the function three times and observe the output."
   ]
  },
  {
   "cell_type": "code",
   "execution_count": 5,
   "id": "16834741-644d-4035-921a-40cb2d0ee257",
   "metadata": {},
   "outputs": [],
   "source": [
    "counter = 0\n",
    "def increment():\n",
    "    global counter\n",
    "    counter = counter + 1\n",
    "    print(\"New value of counter is: \", counter)"
   ]
  },
  {
   "cell_type": "code",
   "execution_count": 7,
   "id": "538e9913-79ce-434a-ba57-7773d3e1a4a5",
   "metadata": {},
   "outputs": [
    {
     "name": "stdout",
     "output_type": "stream",
     "text": [
      "New value of counter is:  1\n"
     ]
    }
   ],
   "source": [
    "increment()"
   ]
  },
  {
   "cell_type": "code",
   "execution_count": 9,
   "id": "a15c987b-7eb2-44cf-9880-56a8a513a63f",
   "metadata": {},
   "outputs": [
    {
     "name": "stdout",
     "output_type": "stream",
     "text": [
      "New value of counter is:  2\n"
     ]
    }
   ],
   "source": [
    "increment()"
   ]
  },
  {
   "cell_type": "code",
   "execution_count": 11,
   "id": "a125df60-1ebc-415a-9685-4183f47be019",
   "metadata": {},
   "outputs": [
    {
     "name": "stdout",
     "output_type": "stream",
     "text": [
      "New value of counter is:  3\n"
     ]
    }
   ],
   "source": [
    "increment()"
   ]
  },
  {
   "cell_type": "markdown",
   "id": "67a3f602-bbed-4497-9dbb-c4ec016525f6",
   "metadata": {},
   "source": [
    "3) Write a function demo_local() that declares a local variable message = \"Hello,\n",
    "Local\" and prints it.\n",
    "Outside the function, try to print the same message variable and note the error"
   ]
  },
  {
   "cell_type": "code",
   "execution_count": 13,
   "id": "f0057ebe-54e1-4dd6-b0e2-52fe56785d50",
   "metadata": {},
   "outputs": [
    {
     "ename": "NameError",
     "evalue": "name 'message' is not defined",
     "output_type": "error",
     "traceback": [
      "\u001b[1;31m---------------------------------------------------------------------------\u001b[0m",
      "\u001b[1;31mNameError\u001b[0m                                 Traceback (most recent call last)",
      "Cell \u001b[1;32mIn[13], line 3\u001b[0m\n\u001b[0;32m      1\u001b[0m \u001b[38;5;28;01mdef\u001b[39;00m \u001b[38;5;21mdemo_local\u001b[39m():\n\u001b[0;32m      2\u001b[0m     message \u001b[38;5;241m=\u001b[39m \u001b[38;5;124m\"\u001b[39m\u001b[38;5;124mHello Local\u001b[39m\u001b[38;5;124m\"\u001b[39m\n\u001b[1;32m----> 3\u001b[0m \u001b[38;5;28mprint\u001b[39m(message)\n",
      "\u001b[1;31mNameError\u001b[0m: name 'message' is not defined"
     ]
    }
   ],
   "source": [
    "def demo_local():\n",
    "    message = \"Hello Local\"\n",
    "print(message)"
   ]
  },
  {
   "cell_type": "markdown",
   "id": "dc2c0b9c-64bb-4018-a90f-f7d8a41e9f3e",
   "metadata": {},
   "source": [
    "4) Modify demo_local() from the previous question to access a global variable\n",
    "message = \"Hello, Global\" from within the function."
   ]
  },
  {
   "cell_type": "code",
   "execution_count": 15,
   "id": "8af1aacb-6f2e-4d18-9024-68bd40f74ffe",
   "metadata": {},
   "outputs": [],
   "source": [
    "message = \"Hello, Global\"\n",
    "def demo_local():\n",
    "    global message\n",
    "    print(message)"
   ]
  },
  {
   "cell_type": "code",
   "execution_count": 17,
   "id": "6e3da0bd-8c44-4de2-8e8c-c52bc9a61a6b",
   "metadata": {},
   "outputs": [
    {
     "name": "stdout",
     "output_type": "stream",
     "text": [
      "Hello, Global\n"
     ]
    }
   ],
   "source": [
    "demo_local()"
   ]
  },
  {
   "cell_type": "markdown",
   "id": "7e6b1ac2-096b-4aab-961f-b5a445c87f8d",
   "metadata": {},
   "source": [
    "5) Write a function greet(name) that takes a name as input and returns a greeting\n",
    "message like \"Hello, John!\".\n",
    "o Add a proper docstring describing the purpose of the function, its input parameter, and\n",
    "its return value.\n",
    "o Use help() to display the docstring."
   ]
  },
  {
   "cell_type": "code",
   "execution_count": 19,
   "id": "e7b4ddbd-a694-46d8-bc11-e66830092081",
   "metadata": {},
   "outputs": [],
   "source": [
    "def greet(name):\n",
    "    \"\"\" This function takes name as input and return a greeting message\"\"\"\n",
    "    greet_message = print(f'Hello, {name}!')\n",
    "    return greet_message"
   ]
  },
  {
   "cell_type": "code",
   "execution_count": 21,
   "id": "3759a67b-a131-423f-b868-236a7ef2a6de",
   "metadata": {},
   "outputs": [
    {
     "name": "stdout",
     "output_type": "stream",
     "text": [
      "Hello, Rucha!\n"
     ]
    }
   ],
   "source": [
    "greet('Rucha')"
   ]
  },
  {
   "cell_type": "code",
   "execution_count": 23,
   "id": "b011fc0a-b4e7-4087-a191-4f7ee9b7bdd9",
   "metadata": {},
   "outputs": [
    {
     "name": "stdout",
     "output_type": "stream",
     "text": [
      "Help on function greet in module __main__:\n",
      "\n",
      "greet(name)\n",
      "    This function takes name as input and return a greeting message\n",
      "\n"
     ]
    }
   ],
   "source": [
    "help(greet)"
   ]
  },
  {
   "cell_type": "markdown",
   "id": "73625b32-3874-47e9-a2e9-954fe6126cd2",
   "metadata": {},
   "source": [
    "6) Write a function calculate_area(radius) to compute the area of a circle given its\n",
    "radius.\n",
    "o Add a docstring explaining the formula used for calculation and the purpose of the\n",
    "function."
   ]
  },
  {
   "cell_type": "code",
   "execution_count": 25,
   "id": "589f3f9d-700d-4a3a-a233-560d36c29e4f",
   "metadata": {},
   "outputs": [],
   "source": [
    "def calculate_area(radius):\n",
    "    \"\"\"This fuction takes radius as input and return a area of circle.\n",
    "    Formula for area of square is pi * radius ** 2. \"\"\"\n",
    "    Pi = 3.14\n",
    "    area = Pi * radius ** 2\n",
    "    return area"
   ]
  },
  {
   "cell_type": "code",
   "execution_count": 27,
   "id": "562ad269-f817-475a-a5e5-b3f56a1db0e4",
   "metadata": {},
   "outputs": [
    {
     "data": {
      "text/plain": [
       "78.5"
      ]
     },
     "execution_count": 27,
     "metadata": {},
     "output_type": "execute_result"
    }
   ],
   "source": [
    "calculate_area(5)"
   ]
  },
  {
   "cell_type": "code",
   "execution_count": 29,
   "id": "f269d1ea-db75-43cd-bef3-7f92b14ce3e6",
   "metadata": {},
   "outputs": [
    {
     "name": "stdout",
     "output_type": "stream",
     "text": [
      "Help on function calculate_area in module __main__:\n",
      "\n",
      "calculate_area(radius)\n",
      "    This fuction takes radius as input and return a area of circle.\n",
      "    Formula for area of square is pi * radius ** 2.\n",
      "\n"
     ]
    }
   ],
   "source": [
    "help(calculate_area)"
   ]
  },
  {
   "cell_type": "markdown",
   "id": "69cc2b0b-d15c-4010-b018-d20eb406a19e",
   "metadata": {},
   "source": [
    "7) Write a function is_even(n) that returns True if a number is even, otherwise\n",
    "returns False. Test the function with multiple inputs."
   ]
  },
  {
   "cell_type": "code",
   "execution_count": 32,
   "id": "89d572b6-890b-4754-8830-bdceb3ee7e2e",
   "metadata": {},
   "outputs": [],
   "source": [
    "def is_even(n):\n",
    "    if n % 2 == 0:\n",
    "        return True\n",
    "    else:\n",
    "        return False\n",
    "        "
   ]
  },
  {
   "cell_type": "code",
   "execution_count": 34,
   "id": "d93e1618-4123-4213-9189-8db70d05f795",
   "metadata": {},
   "outputs": [
    {
     "data": {
      "text/plain": [
       "False"
      ]
     },
     "execution_count": 34,
     "metadata": {},
     "output_type": "execute_result"
    }
   ],
   "source": [
    "is_even(5)"
   ]
  },
  {
   "cell_type": "code",
   "execution_count": 36,
   "id": "00cd8bab-ae38-4b98-8202-195633096646",
   "metadata": {},
   "outputs": [
    {
     "data": {
      "text/plain": [
       "True"
      ]
     },
     "execution_count": 36,
     "metadata": {},
     "output_type": "execute_result"
    }
   ],
   "source": [
    "is_even(10)"
   ]
  },
  {
   "cell_type": "code",
   "execution_count": null,
   "id": "0579f7c0-80dc-4b8a-909c-0249b234a94b",
   "metadata": {},
   "outputs": [],
   "source": []
  }
 ],
 "metadata": {
  "kernelspec": {
   "display_name": "Python [conda env:base] *",
   "language": "python",
   "name": "conda-base-py"
  },
  "language_info": {
   "codemirror_mode": {
    "name": "ipython",
    "version": 3
   },
   "file_extension": ".py",
   "mimetype": "text/x-python",
   "name": "python",
   "nbconvert_exporter": "python",
   "pygments_lexer": "ipython3",
   "version": "3.12.7"
  }
 },
 "nbformat": 4,
 "nbformat_minor": 5
}
