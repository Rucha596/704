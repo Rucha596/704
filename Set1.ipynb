{
 "cells": [
  {
   "cell_type": "raw",
   "id": "d4598bac-76ae-498a-a4c5-e4a73ff03b1c",
   "metadata": {},
   "source": [
    "1) How would you convert one data type to another in Python? For example, an integer to a string."
   ]
  },
  {
   "cell_type": "code",
   "execution_count": 35,
   "id": "5de20389-37be-4a49-aca2-09d59a0e8216",
   "metadata": {},
   "outputs": [
    {
     "name": "stdout",
     "output_type": "stream",
     "text": [
      "conversion of data types: 5.0 5 6\n"
     ]
    }
   ],
   "source": [
    "a = 5\n",
    "b = 6.5\n",
    "c = float(a)\n",
    "d = str(a)\n",
    "e = int(b)\n",
    "print('conversion of data types:',c,d,e)"
   ]
  },
  {
   "cell_type": "raw",
   "id": "52931636-6c9b-4969-8723-3b7333f5b263",
   "metadata": {},
   "source": [
    "2) What is the difference between == and = in Python?"
   ]
  },
  {
   "cell_type": "code",
   "execution_count": 37,
   "id": "ca3585a1-b540-45ca-810a-7e1dea57ecf7",
   "metadata": {},
   "outputs": [
    {
     "name": "stdin",
     "output_type": "stream",
     "text": [
      "Enter a number: 7\n"
     ]
    },
    {
     "name": "stdout",
     "output_type": "stream",
     "text": [
      "Not Equals!\n"
     ]
    }
   ],
   "source": [
    "a = input('Enter a number:')\n",
    "\n",
    "if a == 5:\n",
    "    print(\"Equals!\")\n",
    "else:\n",
    "    print(\"Not Equals!\")"
   ]
  },
  {
   "cell_type": "raw",
   "id": "14d800fb-b7eb-4b74-880b-37c0842aff59",
   "metadata": {},
   "source": [
    "3) How does the modulus operator (%) work in Python?"
   ]
  },
  {
   "cell_type": "code",
   "execution_count": 41,
   "id": "128904b3-8834-402f-8213-b2c6e4b1052e",
   "metadata": {},
   "outputs": [
    {
     "name": "stdin",
     "output_type": "stream",
     "text": [
      "Enter a number: 9\n"
     ]
    },
    {
     "name": "stdout",
     "output_type": "stream",
     "text": [
      "Odd Number\n"
     ]
    }
   ],
   "source": [
    "x = int(input('Enter a number:'))\n",
    "\n",
    "if x % 2 == 0:\n",
    "    print(\"Even number\")\n",
    "else:\n",
    "    print(\"Odd Number\")"
   ]
  },
  {
   "cell_type": "raw",
   "id": "5a50a055-7c02-4adf-b184-94f1e46f5189",
   "metadata": {},
   "source": [
    "4) What will be the output of 3 * \"Hello\" in Python? Explain why."
   ]
  },
  {
   "cell_type": "code",
   "execution_count": 29,
   "id": "2eb9b87b-41bb-4137-a04a-a74364928709",
   "metadata": {},
   "outputs": [
    {
     "name": "stdout",
     "output_type": "stream",
     "text": [
      "HelloHelloHello\n"
     ]
    }
   ],
   "source": [
    "a = 'Hello' * 3\n",
    "print(a)"
   ]
  },
  {
   "cell_type": "raw",
   "id": "e9427cac-1665-40e4-a182-ac0bd1c6a3cc",
   "metadata": {},
   "source": [
    "5) What is string concatenation, and how would you do it in Python?\n"
   ]
  },
  {
   "cell_type": "code",
   "execution_count": 31,
   "id": "658bb921-a62d-4686-ad9d-85f9f7e23511",
   "metadata": {},
   "outputs": [
    {
     "name": "stdout",
     "output_type": "stream",
     "text": [
      "Hello World\n"
     ]
    }
   ],
   "source": [
    "str1 = 'Hello'\n",
    "str2 = 'World'\n",
    "str3 = str1 + \" \" + str2\n",
    "print(str3)"
   ]
  }
 ],
 "metadata": {
  "kernelspec": {
   "display_name": "Python [conda env:base] *",
   "language": "python",
   "name": "conda-base-py"
  },
  "language_info": {
   "codemirror_mode": {
    "name": "ipython",
    "version": 3
   },
   "file_extension": ".py",
   "mimetype": "text/x-python",
   "name": "python",
   "nbconvert_exporter": "python",
   "pygments_lexer": "ipython3",
   "version": "3.12.7"
  }
 },
 "nbformat": 4,
 "nbformat_minor": 5
}
